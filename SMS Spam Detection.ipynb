{
  "cells": [
    {
      "metadata": {
        "_uuid": "8f2839f25d086af736a60e9eeb907d3b93b6e0e5",
        "_cell_guid": "b1076dfc-b9ad-4769-8c92-a6c4dae69d19",
        "trusted": true,
        "collapsed": true
      },
      "cell_type": "code",
      "source": "# This Python 3 environment comes with many helpful analytics libraries installed\n# It is defined by the kaggle/python docker image: https://github.com/kaggle/docker-python\n# For example, here's several helpful packages to load in \n\nimport numpy as np # linear algebra\nimport pandas as pd # data processing, CSV file I/O (e.g. pd.read_csv)\n\n# Input data files are available in the \"../input/\" directory.\n# For example, running this (by clicking run or pressing Shift+Enter) will list the files in the input directory\n\nimport os\nprint(os.listdir(\"../input\"))\n\n# Any results you write to the current directory are saved as output.",
      "execution_count": 1,
      "outputs": []
    },
    {
      "metadata": {
        "_cell_guid": "79c7e3d0-c299-4dcb-8224-4455121ee9b0",
        "collapsed": true,
        "_uuid": "d629ff2d2480ee46fbb7e2d37f6b5fab8052498a",
        "trusted": true
      },
      "cell_type": "code",
      "source": "data = pd.read_csv(\"../input/spam.csv\" ,encoding='latin1')\n",
      "execution_count": 2,
      "outputs": []
    },
    {
      "metadata": {
        "trusted": true,
        "_uuid": "de2889892e8810f39628d8297c5adade4f7f121e",
        "collapsed": true
      },
      "cell_type": "code",
      "source": "data.info()",
      "execution_count": 3,
      "outputs": []
    },
    {
      "metadata": {
        "trusted": true,
        "_uuid": "35ee3b1d71b67af02e94d20abb775d99556e3500",
        "collapsed": true
      },
      "cell_type": "code",
      "source": "print(data.head())\n",
      "execution_count": 4,
      "outputs": []
    },
    {
      "metadata": {
        "trusted": true,
        "collapsed": true,
        "_uuid": "c236f8a80a6d0e0b07903c1de307d38b5daaef13"
      },
      "cell_type": "code",
      "source": "x = data[\"v2\"].values\ny = data[\"v1\"].values",
      "execution_count": 6,
      "outputs": []
    },
    {
      "metadata": {
        "trusted": true,
        "collapsed": true,
        "_uuid": "79cd2ea56a5d2d0b10b2a2b560a28653c1b8ac5d"
      },
      "cell_type": "code",
      "source": "from nltk.corpus import stopwords # for excluding the stopwords\nimport re\nfrom nltk.stem import PorterStemmer # for finding the root words",
      "execution_count": 7,
      "outputs": []
    },
    {
      "metadata": {
        "trusted": true,
        "collapsed": true,
        "_uuid": "53eaef7a6e97044a609e53f7df0fb11811e56c88"
      },
      "cell_type": "code",
      "source": "ps = PorterStemmer()\nstopword = set(stopwords.words('english'))\n\nx = [re.sub('[^a-zA-Z]',' ',doc) for doc in x ]\n\ndocument = [doc.split() for doc in x ]\n\ndef convert(doc):\n    temp = []\n    for word in doc:\n        if word.lower() not in stopword:\n            temp.insert(len(temp),ps.stem(word).lower())\n    return temp        \n\n\ndocument = [convert(doc) for doc in document] \n\ndocument = [\" \".join(doc) for doc in document]",
      "execution_count": 8,
      "outputs": []
    },
    {
      "metadata": {
        "trusted": true,
        "collapsed": true,
        "_uuid": "55eec03f0c938819ec6484815cf858918a8f93a9"
      },
      "cell_type": "code",
      "source": "from sklearn.model_selection import train_test_split\nfrom sklearn.feature_extraction.text import CountVectorizer\nfrom sklearn.naive_bayes import MultinomialNB\n",
      "execution_count": 9,
      "outputs": []
    },
    {
      "metadata": {
        "trusted": true,
        "_uuid": "1141377d83c33074dd88a9e7a39663b8cf68d1b3"
      },
      "cell_type": "code",
      "source": "xtrain , xtest , ytrain , ytest = train_test_split(document,y)\n\ncv = CountVectorizer(max_features = 1000)\na = cv.fit_transform(xtrain) # fit using training data and transform into matrix form\nvocab = cv.get_feature_names()\nb= cv.transform(xtest) #transform testing data into matrix form\n\nclf = MultinomialNB()\nclf.fit(a,ytrain)\nMultinomialNB(alpha=1.0, class_prior=None, fit_prior=True)\nclf.score(b,ytest)\n",
      "execution_count": 11,
      "outputs": [
        {
          "output_type": "execute_result",
          "execution_count": 11,
          "data": {
            "text/plain": "0.98348887293610909"
          },
          "metadata": {}
        }
      ]
    }
  ],
  "metadata": {
    "kernelspec": {
      "display_name": "Python 3",
      "language": "python",
      "name": "python3"
    },
    "language_info": {
      "name": "python",
      "version": "3.6.5",
      "mimetype": "text/x-python",
      "codemirror_mode": {
        "name": "ipython",
        "version": 3
      },
      "pygments_lexer": "ipython3",
      "nbconvert_exporter": "python",
      "file_extension": ".py"
    }
  },
  "nbformat": 4,
  "nbformat_minor": 1
}